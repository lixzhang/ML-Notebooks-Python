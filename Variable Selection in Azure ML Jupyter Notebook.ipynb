{
 "cells": [
  {
   "cell_type": "markdown",
   "metadata": {
    "collapsed": true
   },
   "source": [
    "## 1 Introduction\n",
    "Before starting this example, you should be familiar with Azure Machine Learning (Azure ML) experiments and the process for publishing Azure web service from Python notebooks. \n",
    "\n",
    "The purpose of this example is to demonstrate how to use a feature selection technique not available for Azure ML experiments. This process can be completed with Azure ML Jupyter notebook, a cloud-based service that's part of Azure ML environment.\n",
    "\n",
    "As [Figure 1][pic 1] shows, there are three Feature Selection options for an Azure ML experiment:\n",
    " 1. Filter Based Feature Selection\n",
    " 2. Fisher Linear Discriminant Analysis\n",
    " 3. Permutation Feature Importance\n",
    "\n",
    "Among these, Fisher Linear Discriminant Analysis is actually a dimension reduction technique for cases where the response variable is categorical. Filter Based Feature Selection uses univariate analysis to select features (using metrics such as Pearson Correlation, Chi Squared, etc). Permutation Feature Importance ranks variables by calculating the difference in model performance metrics before and after random permutations of feature values. As the paper [Dimension Reduction vs. Variable Selection][paper link] describes, there are a wide variety of feature selection and dimension reduction techniques. In what follows we'll illustrate how to use recursive feature elimination within an Azure ML Jupyter notebook. \n",
    "\n",
    "[![Figure 1][pic 1]][pic 1] Figure 1\n",
    "\n",
    "[paper link]: http://rd.springer.com/chapter/10.1007%2F11558958_113\n",
    "[pic 1]: https://az712634.vo.msecnd.net/notebooks/4e5ae462-71c1-11e5-8c01-a96769336daf.PNG"
   ]
  },
  {
   "cell_type": "markdown",
   "metadata": {
    "collapsed": true
   },
   "source": [
    "## 2 Read data\n",
    "In this example we'll be using the Boston Housing dataset. There are 506 rows in the dataset. The target variable is median home price. There are 13 predictor variables including average number of rooms per dwelling, crime rate by town, etc. More information about this dataset can be found at [UCI][uci link].\n",
    "[uci link]: https://archive.ics.uci.edu/ml/datasets/Housing"
   ]
  },
  {
   "cell_type": "code",
   "execution_count": 1,
   "metadata": {
    "collapsed": false
   },
   "outputs": [
    {
     "name": "stdout",
     "output_type": "stream",
     "text": [
      "(506, 13)\n",
      "(506,)\n",
      "['CRIM' 'ZN' 'INDUS' 'CHAS' 'NOX' 'RM' 'AGE' 'DIS' 'RAD' 'TAX' 'PTRATIO'\n",
      " 'B' 'LSTAT']\n"
     ]
    }
   ],
   "source": [
    "from sklearn.datasets import load_boston\n",
    "boston = load_boston()\n",
    "X = boston.data\n",
    "y = boston.target\n",
    "feature_names = boston.feature_names\n",
    "print(X.shape)\n",
    "print(y.shape)\n",
    "print(feature_names)"
   ]
  },
  {
   "cell_type": "markdown",
   "metadata": {},
   "source": [
    "## 3 Recursive Feature Elimination\n",
    "The sklearn package has several feature selection methods and details can be found at the [documentation][feature link] site. In this example we'll be using the recursive feature elimination method. This process starts with all variables and assigns weights to them. Those with small weights are first removed. The remaining variables are used to refit the model and the process repeats. \n",
    "\n",
    "We start by importing the packages that'll be used. \n",
    "\n",
    "[feature link]: http://scikit-learn.org/stable/modules/feature_selection.html"
   ]
  },
  {
   "cell_type": "code",
   "execution_count": 2,
   "metadata": {
    "collapsed": true
   },
   "outputs": [],
   "source": [
    "%matplotlib inline\n",
    "import matplotlib.pyplot as plt\n",
    "import pandas as pd\n",
    "import numpy as np\n",
    "from sklearn.linear_model import LinearRegression\n",
    "from sklearn import preprocessing\n",
    "from sklearn.feature_selection import RFECV"
   ]
  },
  {
   "cell_type": "markdown",
   "metadata": {},
   "source": [
    "The following lines of code first scale the features then identify the selected features with recursive feature elimination."
   ]
  },
  {
   "cell_type": "code",
   "execution_count": 3,
   "metadata": {
    "collapsed": false
   },
   "outputs": [
    {
     "name": "stdout",
     "output_type": "stream",
     "text": [
      "Optimal number of features : 6\n",
      "Features selected: ['CRIM', 'NOX', 'RM', 'DIS', 'PTRATIO', 'LSTAT']\n"
     ]
    },
    {
     "data": {
      "image/png": "[encoded data removed]",
      "text/plain": [
       "<matplotlib.figure.Figure at 0x7fa58f986e90>"
      ]
     },
     "metadata": {},
     "output_type": "display_data"
    }
   ],
   "source": [
    "# initiate the linear model\n",
    "lm = LinearRegression()\n",
    "\n",
    "# scale the features\n",
    "min_max_scaler = preprocessing.MinMaxScaler()\n",
    "x_scaled_minmax = min_max_scaler.fit_transform(X)\n",
    "x_scaled_minmax_df = pd.DataFrame(x_scaled_minmax, columns = feature_names)\n",
    "\n",
    "# recursive feature elimination with cross validation, using r-squared as metric\n",
    "rfecv = RFECV(estimator=lm, step=1, cv=5, scoring='r2')\n",
    "rfecv.fit(x_scaled_minmax_df, y)\n",
    "\n",
    "# print the optimal number of feature\n",
    "print(\"Optimal number of features : %d\" % rfecv.n_features_)\n",
    "\n",
    "# save the selected features\n",
    "feature_cols_selected = list(np.array(feature_names)[rfecv.support_])\n",
    "print(\"Features selected: \" + str(feature_cols_selected))\n",
    "\n",
    "# plot number of features VS. cross-validation scores\n",
    "plt.figure()\n",
    "plt.xlabel(\"Number of features selected\")\n",
    "plt.ylabel(\"R-squared\")\n",
    "plt.plot(range(1, len(rfecv.grid_scores_) + 1), rfecv.grid_scores_)\n",
    "plt.show()"
   ]
  },
  {
   "cell_type": "markdown",
   "metadata": {},
   "source": [
    "Once the features to include are selected, we can use them to fit the model. While the scaled features were used in the RFE step above, we'll use the original values for fitting the model. This way we don't have to tranform the data when making predictions."
   ]
  },
  {
   "cell_type": "code",
   "execution_count": 4,
   "metadata": {
    "collapsed": false
   },
   "outputs": [
    {
     "name": "stdout",
     "output_type": "stream",
     "text": [
      "The R-squared value is: 0.7113 \n",
      "\n",
      "    Features       Coef\n",
      "0  intercept  35.629382\n",
      "1       CRIM  -0.071002\n",
      "2        NOX -17.043777\n",
      "3         RM   4.246403\n",
      "4        DIS  -1.204040\n",
      "5    PTRATIO  -1.001903\n",
      "6      LSTAT  -0.554361\n"
     ]
    }
   ],
   "source": [
    "#%% fit model with selected features\n",
    "X_new = X[:,rfecv.support_]\n",
    "lm2 = LinearRegression()\n",
    "lm2.fit(X_new, y)\n",
    "\n",
    "# print the R-squared\n",
    "print(\"The R-squared value is: {0:0.4f} \\n\".format(lm2.score(X_new, y)))\n",
    "# save intercept and coefficients\n",
    "param_df = pd.DataFrame({\"Features\": ['intercept'] + feature_cols_selected, \"Coef\": [lm2.intercept_] + list(lm2.coef_)})\n",
    "cols = param_df.columns.tolist()\n",
    "cols = cols[-1:]+cols[:-1]\n",
    "param_df = param_df[cols]\n",
    "print(param_df)"
   ]
  },
  {
   "cell_type": "markdown",
   "metadata": {},
   "source": [
    "Next we'll use the model to make predictions. Typically, predictions are done on a validation dataset. Here, however, the training dataset is used for illustraton purposes."
   ]
  },
  {
   "cell_type": "code",
   "execution_count": 5,
   "metadata": {
    "collapsed": false
   },
   "outputs": [
    {
     "data": {
      "text/html": [
       "<div>\n",
       "<table border=\"1\" class=\"dataframe\">\n",
       "  <thead>\n",
       "    <tr style=\"text-align: right;\">\n",
       "      <th></th>\n",
       "      <th>CRIM</th>\n",
       "      <th>NOX</th>\n",
       "      <th>RM</th>\n",
       "      <th>DIS</th>\n",
       "      <th>PTRATIO</th>\n",
       "      <th>LSTAT</th>\n",
       "      <th>MEDV</th>\n",
       "      <th>predicted</th>\n",
       "    </tr>\n",
       "  </thead>\n",
       "  <tbody>\n",
       "    <tr>\n",
       "      <th>0</th>\n",
       "      <td>0.00632</td>\n",
       "      <td>0.538</td>\n",
       "      <td>6.575</td>\n",
       "      <td>4.0900</td>\n",
       "      <td>15.3</td>\n",
       "      <td>4.98</td>\n",
       "      <td>24.0</td>\n",
       "      <td>31.365126</td>\n",
       "    </tr>\n",
       "    <tr>\n",
       "      <th>1</th>\n",
       "      <td>0.02731</td>\n",
       "      <td>0.469</td>\n",
       "      <td>6.421</td>\n",
       "      <td>4.9671</td>\n",
       "      <td>17.8</td>\n",
       "      <td>9.14</td>\n",
       "      <td>21.6</td>\n",
       "      <td>26.018747</td>\n",
       "    </tr>\n",
       "    <tr>\n",
       "      <th>2</th>\n",
       "      <td>0.02729</td>\n",
       "      <td>0.469</td>\n",
       "      <td>7.185</td>\n",
       "      <td>4.9671</td>\n",
       "      <td>17.8</td>\n",
       "      <td>4.03</td>\n",
       "      <td>34.7</td>\n",
       "      <td>32.095787</td>\n",
       "    </tr>\n",
       "    <tr>\n",
       "      <th>3</th>\n",
       "      <td>0.03237</td>\n",
       "      <td>0.458</td>\n",
       "      <td>6.998</td>\n",
       "      <td>6.0622</td>\n",
       "      <td>18.7</td>\n",
       "      <td>2.94</td>\n",
       "      <td>33.4</td>\n",
       "      <td>29.872827</td>\n",
       "    </tr>\n",
       "    <tr>\n",
       "      <th>4</th>\n",
       "      <td>0.06905</td>\n",
       "      <td>0.458</td>\n",
       "      <td>7.147</td>\n",
       "      <td>6.0622</td>\n",
       "      <td>18.7</td>\n",
       "      <td>5.33</td>\n",
       "      <td>36.2</td>\n",
       "      <td>29.178013</td>\n",
       "    </tr>\n",
       "  </tbody>\n",
       "</table>\n",
       "</div>"
      ],
      "text/plain": [
       "      CRIM    NOX     RM     DIS  PTRATIO  LSTAT  MEDV  predicted\n",
       "0  0.00632  0.538  6.575  4.0900     15.3   4.98  24.0  31.365126\n",
       "1  0.02731  0.469  6.421  4.9671     17.8   9.14  21.6  26.018747\n",
       "2  0.02729  0.469  7.185  4.9671     17.8   4.03  34.7  32.095787\n",
       "3  0.03237  0.458  6.998  6.0622     18.7   2.94  33.4  29.872827\n",
       "4  0.06905  0.458  7.147  6.0622     18.7   5.33  36.2  29.178013"
      ]
     },
     "execution_count": 5,
     "metadata": {},
     "output_type": "execute_result"
    }
   ],
   "source": [
    "# assign test data\n",
    "newX = X_new\n",
    "newY = y\n",
    "\n",
    "# make predictions\n",
    "predicted = lm2.predict(newX)\n",
    "predictedDf = pd.DataFrame({\"predicted\": predicted})\n",
    "\n",
    "# dataframe for X\n",
    "newXDf = pd.DataFrame(newX)\n",
    "newXDf.columns = feature_cols_selected\n",
    "# dataframe for y\n",
    "newYDf = pd.DataFrame(newY)\n",
    "newYDf.columns = ['MEDV']\n",
    "# join X, y and prediction\n",
    "mydata_with_pd = newXDf.join(newYDf).join(predictedDf)\n",
    "mydata_with_pd.head()"
   ]
  },
  {
   "cell_type": "code",
   "execution_count": 6,
   "metadata": {
    "collapsed": false
   },
   "outputs": [
    {
     "name": "stdout",
     "output_type": "stream",
     "text": [
      "Mean Absolute Error: 3.467774\n",
      "Root Mean Squared Error: 4.936601\n",
      "Relative Absolute Error: 0.521689\n",
      "Relative Squared Error: 0.288678\n"
     ]
    }
   ],
   "source": [
    "# check performance metrics\n",
    "import numpy as np\n",
    "obs = mydata_with_pd.MEDV\n",
    "pred = mydata_with_pd.predicted\n",
    "\n",
    "mae = np.mean(abs(pred-obs))\n",
    "rmse = np.sqrt(np.mean((pred-obs)**2))\n",
    "rae = np.mean(abs(pred-obs))/np.mean(abs(obs-np.mean(obs)))\n",
    "rse = np.mean((pred-obs)**2)/np.mean((obs-np.mean(obs))**2)\n",
    "\n",
    "print(\"Mean Absolute Error: {0:0.6f}\".format(mae))\n",
    "print(\"Root Mean Squared Error: {0:0.6f}\".format(rmse))\n",
    "print(\"Relative Absolute Error: {0:0.6f}\".format(rae))\n",
    "print(\"Relative Squared Error: {0:0.6f}\".format(rse))"
   ]
  },
  {
   "cell_type": "markdown",
   "metadata": {},
   "source": [
    "## 4 Web Service\n",
    "### 4.1 Set up a web service\n",
    "After developing the model, we can deploy it as a service so others can use it. The \"azureml\" package's services subpackage can be used for this purpose. The following lines of code are setting up a web service named \"demoservice\". Notice that you should enter your own workspace\\_id and authorization\\_token. Your returned API information should be different from the printout below. "
   ]
  },
  {
   "cell_type": "code",
   "execution_count": 7,
   "metadata": {
    "collapsed": false,
    "scrolled": true
   },
   "outputs": [],
   "source": [
    "# extract workspace info\n",
    "from azureml import Workspace\n",
    "ws = Workspace()\n",
    "workdspace_id = ws.workspace_id\n",
    "authorization_token = ws.authorization_token\n",
    "\n",
    "# set up web service\n",
    "from azureml import services\n",
    "@services.publish(workdspace_id, authorization_token)\n",
    "@services.types(crim = float, nox=float, rm=float, dis=float, ptratio=float, lstat=float)\n",
    "@services.returns(float)\n",
    "def demoserviceVarSel(crim, nox, rm, dis, ptratio, lstat):\n",
    "    feature_vector = [crim, nox, rm, dis, ptratio,  lstat]\n",
    "    return lm2.predict(feature_vector)"
   ]
  },
  {
   "cell_type": "code",
   "execution_count": 8,
   "metadata": {
    "collapsed": true
   },
   "outputs": [],
   "source": [
    "service_url = demoserviceVarSel.service.url \n",
    "api_key = demoserviceVarSel.service.api_key\n",
    "help_url = demoserviceVarSel.service.help_url\n",
    "service_id = demoserviceVarSel.service.service_id"
   ]
  },
  {
   "cell_type": "markdown",
   "metadata": {},
   "source": [
    "### 4.2 Consume a web service"
   ]
  },
  {
   "cell_type": "markdown",
   "metadata": {},
   "source": [
    "The purpose of the following code is to wait a few seconds so that the web service is successfully desployed and ready for consumption."
   ]
  },
  {
   "cell_type": "code",
   "execution_count": 9,
   "metadata": {
    "collapsed": true
   },
   "outputs": [],
   "source": [
    "# wait \n",
    "import time\n",
    "time.sleep(10)"
   ]
  },
  {
   "cell_type": "markdown",
   "metadata": {},
   "source": [
    "The code below can be used to consume the web service. For illustration purpose the data for two records are provided."
   ]
  },
  {
   "cell_type": "code",
   "execution_count": 10,
   "metadata": {
    "collapsed": false
   },
   "outputs": [
    {
     "name": "stdout",
     "output_type": "stream",
     "text": [
      "{\"Results\":{\"output1\":{\"type\":\"table\",\"value\":{\"Values\":[[\"31.3651262005007\"],[\"26.018746711909\"]]}},\"output2\":{\"type\":\"table\",\"value\":{\"Values\":[[\"data:text/plain,\",\"data:text/plain,\",null]]}}}}\n"
     ]
    }
   ],
   "source": [
    "import urllib2\n",
    "# If you are using Python 3+, import urllib instead of urllib2\n",
    "\n",
    "import json \n",
    "\n",
    "\n",
    "data =  {\n",
    "\n",
    "        \"Inputs\": {\n",
    "\n",
    "                \"input1\":\n",
    "                {\n",
    "                    \"ColumnNames\": [\"crim\", \"lstat\", \"nox\", \"rm\", \"ptratio\", \"dis\"],\n",
    "                    \"Values\": [ [ \"0.00632\", \"4.98\", \"0.538\", \"6.575\", \"15.3\", \"4.0900\" ], \n",
    "                               [ \"0.02731\", \"9.14\", \"0.469\", \"6.421\", \"17.8\", \"4.9671\" ], ]\n",
    "                },        },\n",
    "            \"GlobalParameters\": {\n",
    "}\n",
    "    }\n",
    "\n",
    "body = str.encode(json.dumps(data))\n",
    "\n",
    "url = service_url\n",
    "api_key = api_key # Replace this with the API key for the web service\n",
    "\n",
    "headers = {'Content-Type':'application/json', 'Authorization':('Bearer '+ api_key)}\n",
    "\n",
    "req = urllib2.Request(url, body, headers) \n",
    "\n",
    "try:\n",
    "    response = urllib2.urlopen(req)\n",
    "\n",
    "    # If you are using Python 3+, replace urllib2 with urllib.request in the above code:\n",
    "    # req = urllib.request.Request(url, body, headers) \n",
    "    # response = urllib.request.urlopen(req)\n",
    "\n",
    "    result = response.read()\n",
    "    print(result) \n",
    "except urllib2.HTTPError, error:\n",
    "    print(\"The request failed with status code: \" + str(error.code))\n",
    "\n",
    "    # Print the headers - they include the requert ID and the timestamp, which are useful for debugging the failure\n",
    "    print(error.info())\n",
    "\n",
    "    print(json.loads(error.read()))                 \n"
   ]
  },
  {
   "cell_type": "markdown",
   "metadata": {},
   "source": [
    "The above service consumption code is based on those at the help\\_url, which contains, among others, sample code written in C#, Python, and R for consuming the web service. To check out the code for yourself, copy the help\\_url value to a new browser to open the web page. Scroll down the newly opened page till you see the section \"Sample Code.\" Click on the Python tab and you'll see the sample code. Two changes were made to the sample code:\n",
    "    1. Fill in the url and api_key with the values returned for the current web service, and \n",
    "    2. Enter the values for the first two records. Notice that the order of the columns here may be different from \n",
    "    that in your definition of the web service. "
   ]
  },
  {
   "cell_type": "markdown",
   "metadata": {
    "collapsed": true
   },
   "source": [
    "## 5 Conclusion\n",
    "In this example we started by briefly reviewing the feature selection techniques available for Azure ML's experiments. Then we used the Boston housing dataset to illustrate how to use a technique that's not available for Azure ML's experiments: recursive feature selection. The sklearn package implements several other feature techniques and you can find more information from the [documentation][documentation link] site.\n",
    "\n",
    "[documentation link]: http://scikit-learn.org/stable/modules/classes.html#module-sklearn.feature_selection"
   ]
  }
 ],
 "metadata": {
  "anaconda-cloud": {},
  "kernelspec": {
   "display_name": "Python [Anaconda2]",
   "language": "python",
   "name": "Python [Anaconda2]"
  },
  "language_info": {
   "codemirror_mode": {
    "name": "ipython",
    "version": 2
   },
   "file_extension": ".py",
   "mimetype": "text/x-python",
   "name": "python",
   "nbconvert_exporter": "python",
   "pygments_lexer": "ipython2",
   "version": "2.7.12"
  }
 },
 "nbformat": 4,
 "nbformat_minor": 0
}
