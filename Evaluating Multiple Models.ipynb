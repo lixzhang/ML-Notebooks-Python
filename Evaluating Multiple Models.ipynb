{
 "cells": [
  {
   "cell_type": "markdown",
   "metadata": {},
   "source": [
    "# Evaluating Multiple Models\n",
    "Lixun Zhang  \n",
    "Nov 10, 2015\n",
    "\n",
    "## 1 Introduction\n",
    "The purpose of this example is to compare the performance of models. \n",
    "\n",
    "In this example, the Boston housing dataset that comes with the R package MASS will be used. The dataset has information on median value of owner-occupied homes in $1000's, as well as characteristics such as average number of rooms per dwelling, % lower status of the population, and per capita crime rate by town, etc. More information about the dataset can be found at [UCI Machine Learning Repository][uci link]. \n",
    "\n",
    "The dataset is split into two for this analysis: one for training (70% of samples) and one for testing (30% of samples). After a model is developed based on the training data, its performance will be checked on the testing data. Three models will be compared after they are fitted following the steps described in separate examples: [a linear model using all variables][tutorial link], [a linear model after variable selection][varsel link], and [a Gradient Boosting Machine (GBM) model][gbm link]. \n",
    "\n",
    "[uci link]: http://archive.ics.uci.edu/ml/datasets/Housing\n",
    "[tutorial link]: link\n",
    "[varsel link]: link\n",
    "[gbm link]: link"
   ]
  },
  {
   "cell_type": "markdown",
   "metadata": {},
   "source": [
    "## 2 Prepare Data\n",
    "Following the same step as in [Tutorial for Using Azure Machine Learning Notebook][tutorial link], we first create an Azure ML experiment and then use the following code to bring the Boston housing data from the experiment into the current Python session.\n",
    "\n",
    "[tutorial link]: link"
   ]
  },
  {
   "cell_type": "code",
   "execution_count": 1,
   "metadata": {
    "collapsed": true
   },
   "outputs": [],
   "source": [
    "from azureml import Workspace\n",
    "ws = Workspace(\n",
    " workspace_id='b2bbeb56a1d04e1599d2510a06c59d87',\n",
    " authorization_token=<token>,\n",
    " endpoint='https://studioapi.azureml.net'\n",
    ")\n",
    "experiment = ws.experiments['b2bbeb56a1d04e1599d2510a06c59d87.\\\n",
    "f-id.911630d13cbe4407b9fe408b5bb6ddef']\n",
    "ds = experiment.get_intermediate_dataset(\n",
    " node_id='a0a931cf-9fb3-4cb9-83db-f48211be560c-323',\n",
    " port_name='Results dataset',\n",
    " data_type_id='GenericCSV'\n",
    ")\n",
    "frame = ds.to_dataframe()\n",
    "\n",
    "mydata = frame\n",
    "\n",
    "# create X and y\n",
    "feature_cols = ['crim', 'zn', 'indus', 'chas', 'nox', 'rm', \n",
    "                'age', 'dis', 'rad', 'tax', 'ptratio', 'black', 'lstat']\n",
    "X = mydata[feature_cols]\n",
    "y = mydata.medv"
   ]
  },
  {
   "cell_type": "markdown",
   "metadata": {},
   "source": [
    "Next we split the dataset into two: one with 70% of samples and the other 30%."
   ]
  },
  {
   "cell_type": "code",
   "execution_count": 2,
   "metadata": {
    "collapsed": false
   },
   "outputs": [],
   "source": [
    "from sklearn.cross_validation import train_test_split\n",
    "# Split the dataset: 70% vs 30%\n",
    "X_train, X_test, y_train, y_test = train_test_split(\n",
    "    X, y, test_size=0.3, random_state=0)"
   ]
  },
  {
   "cell_type": "markdown",
   "metadata": {},
   "source": [
    "## 3 Fit Models\n",
    "### 3.1 Linear Model\n",
    "The code in this section is based on that of the [Tutorial for Using Azure Machine Learning Notebook][tutorial link]. \n",
    "The following lines of code fit a linear model using all features.\n",
    "\n",
    "[tutorial link]: link"
   ]
  },
  {
   "cell_type": "code",
   "execution_count": 8,
   "metadata": {
    "collapsed": false,
    "scrolled": false
   },
   "outputs": [
    {
     "name": "stdout",
     "output_type": "stream",
     "text": [
      "The R-squared value is: 0.7645 \n",
      "\n",
      "     Features       Coef\n",
      "0   intercept  37.937108\n",
      "1        crim  -0.121310\n",
      "2          zn   0.044466\n",
      "3       indus   0.011342\n",
      "4        chas   2.511246\n",
      "5         nox -16.231253\n",
      "6          rm   3.859068\n",
      "7         age  -0.009985\n",
      "8         dis  -1.500270\n",
      "9         rad   0.242143\n",
      "10        tax  -0.011072\n",
      "11    ptratio  -1.017753\n",
      "12      black   0.006814\n",
      "13      lstat  -0.486738\n"
     ]
    }
   ],
   "source": [
    "import pandas as pd\n",
    "from sklearn.linear_model import LinearRegression\n",
    "from sklearn.metrics import r2_score\n",
    "\n",
    "# initiate the linear model and fit with data\n",
    "lm = LinearRegression()\n",
    "lm.fit(X_train, y_train)\n",
    "\n",
    "# print the R-squared\n",
    "print(\"The R-squared value is: {0:0.4f} \\n\".format(lm.score(X_train, y_train)))\n",
    "# print intercept and coefficients\n",
    "param_df = pd.DataFrame({\"Features\": ['intercept'] + feature_cols, \"Coef\": [lm.intercept_] + list(lm.coef_)})\n",
    "cols = param_df.columns.tolist()\n",
    "cols = cols[-1:]+cols[:-1]\n",
    "param_df = param_df[cols]\n",
    "print(param_df)"
   ]
  },
  {
   "cell_type": "markdown",
   "metadata": {},
   "source": [
    "Then we check model performance on the test dataset."
   ]
  },
  {
   "cell_type": "code",
   "execution_count": 6,
   "metadata": {
    "collapsed": false
   },
   "outputs": [
    {
     "name": "stdout",
     "output_type": "stream",
     "text": [
      "The R-squared value is: 0.6734\n",
      "Mean Absolute Error: 3.609904\n",
      "Root Mean Squared Error: 5.214975\n",
      "Relative Absolute Error: 0.556116\n",
      "Relative Squared Error: 0.326617\n"
     ]
    }
   ],
   "source": [
    "#%% check performance on test data\n",
    "predicted = lm.predict(X_test)\n",
    "\n",
    "import numpy as np\n",
    "\n",
    "mae = np.mean(abs(predicted-y_test))\n",
    "rmse = np.sqrt(np.mean((predicted-y_test)**2))\n",
    "rae = np.mean(abs(predicted-y_test))/np.mean(abs(y_test-np.mean(y_test)))\n",
    "rse = np.mean((predicted-y_test)**2)/np.mean((y_test-np.mean(y_test))**2)\n",
    "\n",
    "# print metrics on test data\n",
    "print(\"The R-squared value is: {0:0.4f}\".format(lm.score(X_test, y_test)))\n",
    "print(\"Mean Absolute Error: {0:0.6f}\".format(mae))\n",
    "print(\"Root Mean Squared Error: {0:0.6f}\".format(rmse))\n",
    "print(\"Relative Absolute Error: {0:0.6f}\".format(rae))\n",
    "print(\"Relative Squared Error: {0:0.6f}\".format(rse))"
   ]
  },
  {
   "cell_type": "markdown",
   "metadata": {},
   "source": [
    "### 3.2 Linear Model with Feature Selection\n",
    "The code in this section is based on that in the [Variable Selection in Azure ML Jupyter Notebook][varsel link].\n",
    "\n",
    "The following lines of code select variables using recursive feature elimination.\n",
    "\n",
    "[varsel link]: link"
   ]
  },
  {
   "cell_type": "code",
   "execution_count": 9,
   "metadata": {
    "collapsed": false,
    "scrolled": false
   },
   "outputs": [
    {
     "name": "stdout",
     "output_type": "stream",
     "text": [
      "Optimal number of features : 11\n",
      "Features selected: ['crim', 'zn', 'chas', 'nox', 'rm', 'dis', 'rad', 'tax', 'ptratio', 'black', 'lstat']\n"
     ]
    },
    {
     "data": {
      "image/png": "[encoded data removed]",
      "text/plain": [
       "<matplotlib.figure.Figure at 0x1a2d58d0>"
      ]
     },
     "metadata": {},
     "output_type": "display_data"
    }
   ],
   "source": [
    "%matplotlib inline\n",
    "\n",
    "import matplotlib.pyplot as plt\n",
    "from sklearn import preprocessing\n",
    "from sklearn.feature_selection import RFE\n",
    "from sklearn.feature_selection import RFECV\n",
    "\n",
    "#%%\n",
    "# initiate the linear model\n",
    "lm = LinearRegression()\n",
    "\n",
    "# scale the features\n",
    "min_max_scaler = preprocessing.MinMaxScaler()\n",
    "x_scaled_minmax = min_max_scaler.fit_transform(X_train)\n",
    "x_scaled_minmax_df = pd.DataFrame(x_scaled_minmax, columns = feature_cols)\n",
    "\n",
    "# recursive feature elimination with cross validation, using r-squared as metric\n",
    "rfecv = RFECV(estimator=lm, step=1, cv=5, scoring='mean_squared_error')\n",
    "rfecv.fit(x_scaled_minmax_df, y_train)\n",
    "\n",
    "# print the optimal number of feature\n",
    "print(\"Optimal number of features : %d\" % rfecv.n_features_)\n",
    "\n",
    "# save the selected features\n",
    "feature_cols_selected = list(np.array(feature_cols)[rfecv.support_])\n",
    "print(\"Features selected: \" + str(feature_cols_selected))\n",
    "\n",
    "# plot number of features VS. cross-validation scores\n",
    "plt.figure(figsize=(6 * 1.618, 6))\n",
    "plt.xlabel(\"Number of features selected\")\n",
    "plt.ylabel(\"mean-squared-error\")\n",
    "plt.plot(range(1, len(rfecv.grid_scores_) + 1), rfecv.grid_scores_)\n",
    "plt.show()"
   ]
  },
  {
   "cell_type": "markdown",
   "metadata": {},
   "source": [
    "Using the selected features we can fit a linear model."
   ]
  },
  {
   "cell_type": "code",
   "execution_count": 10,
   "metadata": {
    "collapsed": false
   },
   "outputs": [
    {
     "name": "stdout",
     "output_type": "stream",
     "text": [
      "Root Mean Squared Error: 4.4703\n",
      "The R-squared value is: 0.7642 \n",
      "\n",
      "     Features       Coef\n",
      "0   intercept  38.188982\n",
      "1        crim  -0.120769\n",
      "2          zn   0.045531\n",
      "3        chas   2.497513\n",
      "4         nox -16.856417\n",
      "5          rm   3.787462\n",
      "6         dis  -1.463373\n",
      "7         rad   0.241989\n",
      "8         tax  -0.010830\n",
      "9     ptratio  -1.020736\n",
      "10      black   0.006663\n",
      "11      lstat  -0.499107\n"
     ]
    }
   ],
   "source": [
    "#%% fit model with selected features\n",
    "X_new = X_train[feature_cols_selected]\n",
    "lm2 = LinearRegression()\n",
    "lm2.fit(X_new, y_train)\n",
    "\n",
    "predicted = lm2.predict(X_train[feature_cols_selected])\n",
    "\n",
    "rmse = np.sqrt(np.mean((predicted-y_train)**2))\n",
    "print(\"Root Mean Squared Error: {0:0.4f}\" .format(rmse))\n",
    "# print the R-squared\n",
    "print(\"The R-squared value is: {0:0.4f} \\n\".format(lm2.score(X_new, y_train)))\n",
    "# print intercept and coefficients\n",
    "param_df = pd.DataFrame({\"Features\": ['intercept'] + feature_cols_selected, \"Coef\": [lm2.intercept_] + list(lm2.coef_)})\n",
    "cols = param_df.columns.tolist()\n",
    "cols = cols[-1:]+cols[:-1]\n",
    "param_df = param_df[cols]\n",
    "print(param_df)"
   ]
  },
  {
   "cell_type": "markdown",
   "metadata": {},
   "source": [
    "Then the model's performance on the test dataset is evaluated."
   ]
  },
  {
   "cell_type": "code",
   "execution_count": 11,
   "metadata": {
    "collapsed": false
   },
   "outputs": [
    {
     "name": "stdout",
     "output_type": "stream",
     "text": [
      "The R-squared value is: 0.6752 \n",
      "\n",
      "Mean Absolute Error: 3.595099\n",
      "Root Mean Squared Error: 5.200632\n",
      "Relative Absolute Error: 0.553835\n",
      "Relative Squared Error: 0.324823\n"
     ]
    }
   ],
   "source": [
    "#%% check performance on test data\n",
    "X_test_part = X_test[feature_cols_selected]\n",
    "predicted = lm2.predict(X_test_part)\n",
    "\n",
    "mae = np.mean(abs(predicted-y_test))\n",
    "rmse = np.sqrt(np.mean((predicted-y_test)**2))\n",
    "rae = np.mean(abs(predicted-y_test))/np.mean(abs(y_test-np.mean(y_test)))\n",
    "rse = np.mean((predicted-y_test)**2)/np.mean((y_test-np.mean(y_test))**2)\n",
    "\n",
    "# print metrics on test data\n",
    "print(\"The R-squared value is: {0:0.4f} \\n\".format(lm2.score(X_test_part, y_test)))\n",
    "print(\"Mean Absolute Error: {0:0.6f}\".format(mae))\n",
    "print(\"Root Mean Squared Error: {0:0.6f}\".format(rmse))\n",
    "print(\"Relative Absolute Error: {0:0.6f}\".format(rae))\n",
    "print(\"Relative Squared Error: {0:0.6f}\".format(rse))"
   ]
  },
  {
   "cell_type": "markdown",
   "metadata": {},
   "source": [
    "### 3.3 GBM\n",
    "The code in this section is based on that in the [GBM in Azure ML Jupyter Notebook][gbm link].\n",
    "\n",
    "Before fitting the GBM model, we need to estimate some parameters and we'll do this using cross-validation along with grid search.\n",
    "\n",
    "[gbm link]: link"
   ]
  },
  {
   "cell_type": "code",
   "execution_count": 12,
   "metadata": {
    "collapsed": false,
    "scrolled": true
   },
   "outputs": [
    {
     "name": "stdout",
     "output_type": "stream",
     "text": [
      "# Tuning hyper-parameters for mean_squared_error\n",
      "The grid cross validation lasted 626.82 seconds\n",
      "Best parameters set found on development set:\n",
      "{'min_samples_split': 1, 'n_estimators': 1000, 'learning_rate': 0.1, 'max_depth': 2}\n",
      "Grid scores on development set:\n",
      "-47.633 (+/-29.494) for {'min_samples_split': 1, 'n_estimators': 500, 'learning_rate': 0.001, 'max_depth': 2}\n",
      "-30.599 (+/-21.113) for {'min_samples_split': 1, 'n_estimators': 1000, 'learning_rate': 0.001, 'max_depth': 2}\n",
      "-11.266 (+/-8.071) for {'min_samples_split': 1, 'n_estimators': 10000, 'learning_rate': 0.001, 'max_depth': 2}\n",
      "-47.633 (+/-29.494) for {'min_samples_split': 2, 'n_estimators': 500, 'learning_rate': 0.001, 'max_depth': 2}\n",
      "-30.599 (+/-21.113) for {'min_samples_split': 2, 'n_estimators': 1000, 'learning_rate': 0.001, 'max_depth': 2}\n",
      "-11.266 (+/-8.071) for {'min_samples_split': 2, 'n_estimators': 10000, 'learning_rate': 0.001, 'max_depth': 2}\n",
      "-47.633 (+/-29.494) for {'min_samples_split': 4, 'n_estimators': 500, 'learning_rate': 0.001, 'max_depth': 2}\n",
      "-30.599 (+/-21.113) for {'min_samples_split': 4, 'n_estimators': 1000, 'learning_rate': 0.001, 'max_depth': 2}\n",
      "-11.328 (+/-8.203) for {'min_samples_split': 4, 'n_estimators': 10000, 'learning_rate': 0.001, 'max_depth': 2}\n",
      "-43.007 (+/-25.466) for {'min_samples_split': 1, 'n_estimators': 500, 'learning_rate': 0.001, 'max_depth': 4}\n",
      "-26.018 (+/-16.443) for {'min_samples_split': 1, 'n_estimators': 1000, 'learning_rate': 0.001, 'max_depth': 4}\n",
      "-11.026 (+/-8.552) for {'min_samples_split': 1, 'n_estimators': 10000, 'learning_rate': 0.001, 'max_depth': 4}\n",
      "-43.007 (+/-25.466) for {'min_samples_split': 2, 'n_estimators': 500, 'learning_rate': 0.001, 'max_depth': 4}\n",
      "-26.018 (+/-16.443) for {'min_samples_split': 2, 'n_estimators': 1000, 'learning_rate': 0.001, 'max_depth': 4}\n",
      "-11.026 (+/-8.552) for {'min_samples_split': 2, 'n_estimators': 10000, 'learning_rate': 0.001, 'max_depth': 4}\n",
      "-43.189 (+/-25.959) for {'min_samples_split': 4, 'n_estimators': 500, 'learning_rate': 0.001, 'max_depth': 4}\n",
      "-26.177 (+/-17.114) for {'min_samples_split': 4, 'n_estimators': 1000, 'learning_rate': 0.001, 'max_depth': 4}\n",
      "-10.995 (+/-8.718) for {'min_samples_split': 4, 'n_estimators': 10000, 'learning_rate': 0.001, 'max_depth': 4}\n",
      "-42.438 (+/-23.180) for {'min_samples_split': 1, 'n_estimators': 500, 'learning_rate': 0.001, 'max_depth': 8}\n",
      "-28.087 (+/-18.414) for {'min_samples_split': 1, 'n_estimators': 1000, 'learning_rate': 0.001, 'max_depth': 8}\n",
      "-21.575 (+/-24.591) for {'min_samples_split': 1, 'n_estimators': 10000, 'learning_rate': 0.001, 'max_depth': 8}\n",
      "-42.438 (+/-23.180) for {'min_samples_split': 2, 'n_estimators': 500, 'learning_rate': 0.001, 'max_depth': 8}\n",
      "-28.087 (+/-18.414) for {'min_samples_split': 2, 'n_estimators': 1000, 'learning_rate': 0.001, 'max_depth': 8}\n",
      "-21.575 (+/-24.591) for {'min_samples_split': 2, 'n_estimators': 10000, 'learning_rate': 0.001, 'max_depth': 8}\n",
      "-42.867 (+/-24.272) for {'min_samples_split': 4, 'n_estimators': 500, 'learning_rate': 0.001, 'max_depth': 8}\n",
      "-29.005 (+/-19.620) for {'min_samples_split': 4, 'n_estimators': 1000, 'learning_rate': 0.001, 'max_depth': 8}\n",
      "-21.192 (+/-22.977) for {'min_samples_split': 4, 'n_estimators': 10000, 'learning_rate': 0.001, 'max_depth': 8}\n",
      "-12.681 (+/-8.836) for {'min_samples_split': 1, 'n_estimators': 500, 'learning_rate': 0.01, 'max_depth': 2}\n",
      "-11.161 (+/-7.978) for {'min_samples_split': 1, 'n_estimators': 1000, 'learning_rate': 0.01, 'max_depth': 2}\n",
      "-9.876 (+/-6.498) for {'min_samples_split': 1, 'n_estimators': 10000, 'learning_rate': 0.01, 'max_depth': 2}\n",
      "-12.681 (+/-8.836) for {'min_samples_split': 2, 'n_estimators': 500, 'learning_rate': 0.01, 'max_depth': 2}\n",
      "-11.161 (+/-7.978) for {'min_samples_split': 2, 'n_estimators': 1000, 'learning_rate': 0.01, 'max_depth': 2}\n",
      "-9.876 (+/-6.498) for {'min_samples_split': 2, 'n_estimators': 10000, 'learning_rate': 0.01, 'max_depth': 2}\n",
      "-12.684 (+/-8.829) for {'min_samples_split': 4, 'n_estimators': 500, 'learning_rate': 0.01, 'max_depth': 2}\n",
      "-11.221 (+/-8.191) for {'min_samples_split': 4, 'n_estimators': 1000, 'learning_rate': 0.01, 'max_depth': 2}\n",
      "-10.032 (+/-6.888) for {'min_samples_split': 4, 'n_estimators': 10000, 'learning_rate': 0.01, 'max_depth': 2}\n",
      "-11.374 (+/-8.416) for {'min_samples_split': 1, 'n_estimators': 500, 'learning_rate': 0.01, 'max_depth': 4}\n",
      "-11.188 (+/-8.569) for {'min_samples_split': 1, 'n_estimators': 1000, 'learning_rate': 0.01, 'max_depth': 4}\n",
      "-11.003 (+/-8.645) for {'min_samples_split': 1, 'n_estimators': 10000, 'learning_rate': 0.01, 'max_depth': 4}\n",
      "-11.374 (+/-8.416) for {'min_samples_split': 2, 'n_estimators': 500, 'learning_rate': 0.01, 'max_depth': 4}\n",
      "-11.188 (+/-8.569) for {'min_samples_split': 2, 'n_estimators': 1000, 'learning_rate': 0.01, 'max_depth': 4}\n",
      "-11.003 (+/-8.645) for {'min_samples_split': 2, 'n_estimators': 10000, 'learning_rate': 0.01, 'max_depth': 4}\n",
      "-11.618 (+/-9.199) for {'min_samples_split': 4, 'n_estimators': 500, 'learning_rate': 0.01, 'max_depth': 4}\n",
      "-11.351 (+/-9.375) for {'min_samples_split': 4, 'n_estimators': 1000, 'learning_rate': 0.01, 'max_depth': 4}\n",
      "-11.252 (+/-9.515) for {'min_samples_split': 4, 'n_estimators': 10000, 'learning_rate': 0.01, 'max_depth': 4}\n",
      "-21.535 (+/-24.610) for {'min_samples_split': 1, 'n_estimators': 500, 'learning_rate': 0.01, 'max_depth': 8}\n",
      "-21.495 (+/-24.560) for {'min_samples_split': 1, 'n_estimators': 1000, 'learning_rate': 0.01, 'max_depth': 8}\n",
      "-21.494 (+/-24.558) for {'min_samples_split': 1, 'n_estimators': 10000, 'learning_rate': 0.01, 'max_depth': 8}\n",
      "-21.535 (+/-24.610) for {'min_samples_split': 2, 'n_estimators': 500, 'learning_rate': 0.01, 'max_depth': 8}\n",
      "-21.495 (+/-24.560) for {'min_samples_split': 2, 'n_estimators': 1000, 'learning_rate': 0.01, 'max_depth': 8}\n",
      "-21.494 (+/-24.558) for {'min_samples_split': 2, 'n_estimators': 10000, 'learning_rate': 0.01, 'max_depth': 8}\n",
      "-21.490 (+/-23.086) for {'min_samples_split': 4, 'n_estimators': 500, 'learning_rate': 0.01, 'max_depth': 8}\n",
      "-21.455 (+/-23.073) for {'min_samples_split': 4, 'n_estimators': 1000, 'learning_rate': 0.01, 'max_depth': 8}\n",
      "-21.454 (+/-23.072) for {'min_samples_split': 4, 'n_estimators': 10000, 'learning_rate': 0.01, 'max_depth': 8}\n",
      "-9.847 (+/-5.757) for {'min_samples_split': 1, 'n_estimators': 500, 'learning_rate': 0.1, 'max_depth': 2}\n",
      "-9.738 (+/-5.687) for {'min_samples_split': 1, 'n_estimators': 1000, 'learning_rate': 0.1, 'max_depth': 2}\n",
      "-9.792 (+/-5.701) for {'min_samples_split': 1, 'n_estimators': 10000, 'learning_rate': 0.1, 'max_depth': 2}\n",
      "-9.847 (+/-5.757) for {'min_samples_split': 2, 'n_estimators': 500, 'learning_rate': 0.1, 'max_depth': 2}\n",
      "-9.738 (+/-5.687) for {'min_samples_split': 2, 'n_estimators': 1000, 'learning_rate': 0.1, 'max_depth': 2}\n",
      "-9.792 (+/-5.701) for {'min_samples_split': 2, 'n_estimators': 10000, 'learning_rate': 0.1, 'max_depth': 2}\n",
      "-10.028 (+/-6.260) for {'min_samples_split': 4, 'n_estimators': 500, 'learning_rate': 0.1, 'max_depth': 2}\n",
      "-10.098 (+/-6.177) for {'min_samples_split': 4, 'n_estimators': 1000, 'learning_rate': 0.1, 'max_depth': 2}\n",
      "-10.159 (+/-6.200) for {'min_samples_split': 4, 'n_estimators': 10000, 'learning_rate': 0.1, 'max_depth': 2}\n",
      "-11.279 (+/-7.936) for {'min_samples_split': 1, 'n_estimators': 500, 'learning_rate': 0.1, 'max_depth': 4}\n",
      "-11.278 (+/-7.930) for {'min_samples_split': 1, 'n_estimators': 1000, 'learning_rate': 0.1, 'max_depth': 4}\n",
      "-11.278 (+/-7.930) for {'min_samples_split': 1, 'n_estimators': 10000, 'learning_rate': 0.1, 'max_depth': 4}\n",
      "-11.279 (+/-7.936) for {'min_samples_split': 2, 'n_estimators': 500, 'learning_rate': 0.1, 'max_depth': 4}\n",
      "-11.278 (+/-7.930) for {'min_samples_split': 2, 'n_estimators': 1000, 'learning_rate': 0.1, 'max_depth': 4}\n",
      "-11.278 (+/-7.930) for {'min_samples_split': 2, 'n_estimators': 10000, 'learning_rate': 0.1, 'max_depth': 4}\n",
      "-11.135 (+/-7.354) for {'min_samples_split': 4, 'n_estimators': 500, 'learning_rate': 0.1, 'max_depth': 4}\n",
      "-11.132 (+/-7.353) for {'min_samples_split': 4, 'n_estimators': 1000, 'learning_rate': 0.1, 'max_depth': 4}\n",
      "-11.132 (+/-7.353) for {'min_samples_split': 4, 'n_estimators': 10000, 'learning_rate': 0.1, 'max_depth': 4}\n",
      "-21.718 (+/-23.591) for {'min_samples_split': 1, 'n_estimators': 500, 'learning_rate': 0.1, 'max_depth': 8}\n",
      "-21.718 (+/-23.591) for {'min_samples_split': 1, 'n_estimators': 1000, 'learning_rate': 0.1, 'max_depth': 8}\n",
      "-21.718 (+/-23.591) for {'min_samples_split': 1, 'n_estimators': 10000, 'learning_rate': 0.1, 'max_depth': 8}\n",
      "-21.718 (+/-23.591) for {'min_samples_split': 2, 'n_estimators': 500, 'learning_rate': 0.1, 'max_depth': 8}\n",
      "-21.718 (+/-23.591) for {'min_samples_split': 2, 'n_estimators': 1000, 'learning_rate': 0.1, 'max_depth': 8}\n",
      "-21.718 (+/-23.591) for {'min_samples_split': 2, 'n_estimators': 10000, 'learning_rate': 0.1, 'max_depth': 8}\n",
      "-16.855 (+/-13.221) for {'min_samples_split': 4, 'n_estimators': 500, 'learning_rate': 0.1, 'max_depth': 8}\n",
      "-16.855 (+/-13.221) for {'min_samples_split': 4, 'n_estimators': 1000, 'learning_rate': 0.1, 'max_depth': 8}\n",
      "-16.855 (+/-13.221) for {'min_samples_split': 4, 'n_estimators': 10000, 'learning_rate': 0.1, 'max_depth': 8}\n"
     ]
    }
   ],
   "source": [
    "#%% use cross validation to estimate hyperparameters on a grid\n",
    "from sklearn.grid_search import GridSearchCV\n",
    "from sklearn.ensemble import GradientBoostingRegressor\n",
    "from time import time\n",
    "\n",
    "tuned_params = {'n_estimators': [500, 1000, 10000], \n",
    "                'max_depth': [2,4,8], \n",
    "                'min_samples_split': [1, 2, 4],\n",
    "                'learning_rate': [0.001, 0.01, 0.1]}\n",
    "          \n",
    "print(\"# Tuning hyper-parameters for mean_squared_error\")\n",
    "\n",
    "gscv = GridSearchCV(GradientBoostingRegressor(loss = 'ls', random_state=0), \n",
    "                    tuned_params, cv=5, scoring='mean_squared_error')\n",
    "\n",
    "start = time()\n",
    "gscv.fit(X_train, y_train)\n",
    "print(\"The grid cross validation lasted {0:0.2f} seconds\"\n",
    "      .format(time() - start))\n",
    "print(\"Best parameters set found on development set:\")\n",
    "print(gscv.best_params_)\n",
    "print(\"Grid scores on development set:\")\n",
    "for params, mean_score, scores in gscv.grid_scores_:\n",
    "    print(\"{0:0.3f} (+/-{1:0.3f}) for {2:s}\"\n",
    "          .format(mean_score, scores.std() * 2, params))"
   ]
  },
  {
   "cell_type": "markdown",
   "metadata": {},
   "source": [
    "With the parameters that gives the best performance we'll fit the GBM model. "
   ]
  },
  {
   "cell_type": "code",
   "execution_count": 13,
   "metadata": {
    "collapsed": false,
    "scrolled": true
   },
   "outputs": [
    {
     "name": "stdout",
     "output_type": "stream",
     "text": [
      "The R-squared value is: 0.9988 \n",
      "\n"
     ]
    }
   ],
   "source": [
    "# fit model with the best set of parameter values\n",
    "params = {'n_estimators': 1000, 'max_depth': 2, 'min_samples_split': 1,\n",
    "          'learning_rate': 0.1, 'loss': 'ls', 'random_state': 0}\n",
    "          \n",
    "gbm = GradientBoostingRegressor(**params)\n",
    "\n",
    "gbm.fit(X_train, y_train)\n",
    "\n",
    "# print the R-squared\n",
    "from sklearn.metrics import r2_score\n",
    "print(\"The R-squared value is: {0:0.4f} \\n\".\n",
    "      format(r2_score(y_train,gbm.predict(X_train))))\n"
   ]
  },
  {
   "cell_type": "markdown",
   "metadata": {},
   "source": [
    "Then we can check the model's performance on the test data."
   ]
  },
  {
   "cell_type": "code",
   "execution_count": 14,
   "metadata": {
    "collapsed": false
   },
   "outputs": [
    {
     "name": "stdout",
     "output_type": "stream",
     "text": [
      "The R-squared value is: 0.7852 \n",
      "\n",
      "Mean Absolute Error: 2.582785\n",
      "Root Mean Squared Error: 4.229533\n",
      "Relative Absolute Error: 0.397885\n",
      "Relative Squared Error: 0.214842\n"
     ]
    }
   ],
   "source": [
    "#%% check performance on test data\n",
    "predicted = gbm.predict(X_test)\n",
    "\n",
    "mae = np.mean(abs(predicted-y_test))\n",
    "rmse = np.sqrt(np.mean((predicted-y_test)**2))\n",
    "rae = np.mean(abs(predicted-y_test))/np.mean(abs(y_test-np.mean(y_test)))\n",
    "rse = np.mean((predicted-y_test)**2)/np.mean((y_test-np.mean(y_test))**2)\n",
    "\n",
    "# print metrics on test data\n",
    "from sklearn.metrics import r2_score\n",
    "print(\"The R-squared value is: {0:0.4f} \\n\".format(r2_score(y_test,predicted)))\n",
    "print(\"Mean Absolute Error: {0:0.6f}\".format(mae))\n",
    "print(\"Root Mean Squared Error: {0:0.6f}\".format(rmse))\n",
    "print(\"Relative Absolute Error: {0:0.6f}\".format(rae))\n",
    "print(\"Relative Squared Error: {0:0.6f}\".format(rse))"
   ]
  },
  {
   "cell_type": "markdown",
   "metadata": {},
   "source": [
    "Two plots are generated blow: one to check variable importance and the other to compare loss with number of iterations."
   ]
  },
  {
   "cell_type": "code",
   "execution_count": 20,
   "metadata": {
    "collapsed": false,
    "scrolled": true
   },
   "outputs": [
    {
     "data": {
      "image/png": "[encoded data removed]",
      "text/plain": [
       "<matplotlib.figure.Figure at 0x27a6eb70>"
      ]
     },
     "metadata": {},
     "output_type": "display_data"
    },
    {
     "data": {
      "text/plain": [
       "<matplotlib.text.Text at 0x1ac37240>"
      ]
     },
     "execution_count": 20,
     "metadata": {},
     "output_type": "execute_result"
    },
    {
     "data": {
      "image/png": "[encoded data removed]",
      "text/plain": [
       "<matplotlib.figure.Figure at 0x20bf9b70>"
      ]
     },
     "metadata": {},
     "output_type": "display_data"
    }
   ],
   "source": [
    "# plot variable importance\n",
    "import numpy as np\n",
    "import matplotlib.pyplot as plt\n",
    "\n",
    "feature_importance = gbm.feature_importances_\n",
    "feature_importance = 100.0 * (feature_importance / feature_importance.max())\n",
    "sorted_idx = np.argsort(feature_importance)[::-1]\n",
    "\n",
    "plt.figure(figsize=(6 * 1.618, 6))\n",
    "index = np.arange(len(feature_cols))\n",
    "bar_width = 0.5\n",
    "plt.bar(index, feature_importance[sorted_idx], color='black', alpha=0.5)\n",
    "plt.xlabel('features')\n",
    "plt.ylabel('importance')\n",
    "plt.title('Feature importance')\n",
    "plt.xticks(index + bar_width, np.array(feature_cols)[sorted_idx])\n",
    "plt.tight_layout()\n",
    "plt.show()\n",
    "\n",
    "# plot deviance for training set and test set\n",
    "test_score = np.zeros(params['n_estimators'])\n",
    "\n",
    "for j, y_pred in enumerate(gbm.staged_decision_function(X_test)):\n",
    "    test_score[j] = gbm.loss_(y_test, y_pred)\n",
    "\n",
    "plt.figure(figsize=(6 * 1.618, 6))\n",
    "plt.title('Deviance')\n",
    "plt.plot(np.arange(params['n_estimators']) + 1, gbm.train_score_, 'b-',\n",
    "         label='Training Set Deviance')\n",
    "plt.plot(np.arange(params['n_estimators']) + 1, test_score, 'r-',\n",
    "         label='Test Set Deviance')\n",
    "plt.legend(loc='upper right')\n",
    "plt.xlabel('Boosting Iterations')\n",
    "plt.ylabel('Deviance')"
   ]
  },
  {
   "cell_type": "markdown",
   "metadata": {},
   "source": [
    "## 4 Conclusion\n",
    "The following table compares the performance of the three models. As expected, the R-squared value on test data is lower than that on training data for all models. \n",
    "\n",
    "The linear model after variable selection performs better on the test data than the model with all avariables. For example, the RMSE for the reduced model is 5.2006 compared with 5.2150 for the full model. So the simpler model (with 2 fewer variables) performs better than the more complex one. This illustrate the benefits of conducting variable selection.\n",
    "\n",
    "GBM performs best among all models by all criteria. \n",
    "\n",
    "| Metric                    | Data          | Linear Reg - All Variables | Linear Reg - Selected Variables |    GBM |\n",
    "|---------------------------|---------------|--------------:|-------------------:|-------:|\n",
    "| R-squared                 | training data |        0.7645 |             0.7642 | 0.9988 |\n",
    "| R-squared                 | test data     |        0.6734 |             0.6752 | 0.7852 |\n",
    "| Mean Absolute   Error     | test data     |        3.6099 |             3.5951 | 2.5828 |\n",
    "| Root Mean   Squared Error | test data     |        5.2150 |             5.2006 | 4.2295 |\n",
    "| Relative   Absolute Error | test data     |        0.5561 |             0.5538 | 0.3979 |\n",
    "| Relative   Squared Error  | test data     |        0.3266 |             0.3248 | 0.2148 |\n"
   ]
  }
 ],
 "metadata": {
  "anaconda-cloud": {},
  "kernelspec": {
   "display_name": "Python [Anaconda2]",
   "language": "python",
   "name": "Python [Anaconda2]"
  },
  "language_info": {
   "codemirror_mode": {
    "name": "ipython",
    "version": 2
   },
   "file_extension": ".py",
   "mimetype": "text/x-python",
   "name": "python",
   "nbconvert_exporter": "python",
   "pygments_lexer": "ipython2",
   "version": "2.7.12"
  }
 },
 "nbformat": 4,
 "nbformat_minor": 0
}
