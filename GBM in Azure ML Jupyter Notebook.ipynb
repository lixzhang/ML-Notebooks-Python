{
 "cells": [
  {
   "cell_type": "markdown",
   "metadata": {},
   "source": [
    "# GBM in Azure ML Jupyter Notebook\n",
    "Lixun Zhang  \n",
    "Nov 10, 2015\n",
    "\n",
    "## 1 Introduction\n",
    "Before starting this example, it is assumed that you are familiar with Azure Machine Learning (Azure ML) experiments. If not, you can refer to [Data Scientists' Guide][guide link]. \n",
    "\n",
    "The purpose of this example is to demonstrate how to use Azure ML Jupyter notebook to fit a Gradient Boosting Machine (GBM) model.\n",
    "\n",
    "GBM is well-known among data scientists and as a [Kaggle Profile][kaggle link] explains, it has several major advantages compared with traditional statistical models like linear regression:\n",
    "    1. it automatically approximates non-linear transformations and interactions\n",
    "    2. it treats missing values without having to fill in values or remove observations\n",
    "    3. monotonic transformation of features won't influence the model's performance\n",
    "\n",
    "In an Azure ML experiment, we can use the \"Boosted Decision Tree Regression\" module to fit a GBM model when the response variable is continuous. This module, however, does not allow users to specify the types of loss functions (for statisticians, this means that you can't specify the distribution for the response variable). One way to address this challenge is to make use of the [sklearn][sklearn link] package for Python. In what follows we'll illustrate how to do this within an Azure ML Jupyter notebook. \n",
    "\n",
    "[guide link]: https://gallery.cortanaanalytics.com/Experiment/Tutorial-for-Data-Scientists-3\n",
    "[kaggle link]: http://blog.kaggle.com/2015/06/22/profiling-top-kagglers-owen-zhang-currently-1-in-the-world/\n",
    "[sklearn link]: http://scikit-learn.org/stable/index.html"
   ]
  },
  {
   "cell_type": "markdown",
   "metadata": {
    "collapsed": true
   },
   "source": [
    "## 2 Read Data\n",
    "Following the same procedure as [Tutorial for Using Azure Machine Learning Notebook][tutorial link], we'll read data from an experiment with the following code.\n",
    "\n",
    "[tutorial link]: link"
   ]
  },
  {
   "cell_type": "code",
   "execution_count": 10,
   "metadata": {
    "collapsed": true
   },
   "outputs": [],
   "source": [
    "from azureml import Workspace\n",
    "ws = Workspace(\n",
    " workspace_id='b2bbeb56a1d04e1599d2510a06c59d87',\n",
    " authorization_token=<token>,\n",
    " endpoint='https://studioapi.azureml.net'\n",
    ")\n",
    "experiment = ws.experiments['b2bbeb56a1d04e1599d2510a06c59d87.\\\n",
    "f-id.911630d13cbe4407b9fe408b5bb6ddef']\n",
    "ds = experiment.get_intermediate_dataset(\n",
    " node_id='a0a931cf-9fb3-4cb9-83db-f48211be560c-323',\n",
    " port_name='Results dataset',\n",
    " data_type_id='GenericCSV'\n",
    ")\n",
    "frame = ds.to_dataframe()\n",
    "\n",
    "mydata = frame"
   ]
  },
  {
   "cell_type": "markdown",
   "metadata": {},
   "source": [
    "## 3 Estimate Hyperparameters\n",
    "In a GBM model, there are several hyperparameters and we need to estimate them first. One way to estimate these parameters is to use cross validation on a parameter-grid. In our example, we'll optimize the following parameters over a grid: number of estimators, maximum tree depth, minimum number of samples on a split, and learning rate. To do this we start by providing several values for each of them and create a set of combinations, each combination consisting of one value for each parameter. Then for each combination we use cross validation to estimate the performance, using mean squared error as performance metric.\n",
    "\n",
    "[gbm link]: https://gradientboostedmodels.googlecode.com/git/gbm/inst/doc/gbm.pdf"
   ]
  },
  {
   "cell_type": "code",
   "execution_count": 14,
   "metadata": {
    "collapsed": false,
    "scrolled": true
   },
   "outputs": [
    {
     "name": "stdout",
     "output_type": "stream",
     "text": [
      "# Tuning hyper-parameters for mean_squared_error\n",
      "The grid cross validation lasted 865.39 seconds\n",
      "Best parameters set found on development set:\n",
      "{'min_samples_split': 4, 'n_estimators': 500, 'learning_rate': 0.1, 'max_depth': 2}\n",
      "Grid scores on development set:\n",
      "-58.797 (+/-51.215) for {'min_samples_split': 1, 'n_estimators': 500, 'learning_rate': 0.001, 'max_depth': 2}\n",
      "-41.242 (+/-40.364) for {'min_samples_split': 1, 'n_estimators': 1000, 'learning_rate': 0.001, 'max_depth': 2}\n",
      "-18.555 (+/-25.300) for {'min_samples_split': 1, 'n_estimators': 10000, 'learning_rate': 0.001, 'max_depth': 2}\n",
      "-58.797 (+/-51.215) for {'min_samples_split': 2, 'n_estimators': 500, 'learning_rate': 0.001, 'max_depth': 2}\n",
      "-41.242 (+/-40.364) for {'min_samples_split': 2, 'n_estimators': 1000, 'learning_rate': 0.001, 'max_depth': 2}\n",
      "-18.555 (+/-25.300) for {'min_samples_split': 2, 'n_estimators': 10000, 'learning_rate': 0.001, 'max_depth': 2}\n",
      "-58.797 (+/-51.215) for {'min_samples_split': 4, 'n_estimators': 500, 'learning_rate': 0.001, 'max_depth': 2}\n",
      "-41.242 (+/-40.364) for {'min_samples_split': 4, 'n_estimators': 1000, 'learning_rate': 0.001, 'max_depth': 2}\n",
      "-18.509 (+/-25.283) for {'min_samples_split': 4, 'n_estimators': 10000, 'learning_rate': 0.001, 'max_depth': 2}\n",
      "-53.845 (+/-42.896) for {'min_samples_split': 1, 'n_estimators': 500, 'learning_rate': 0.001, 'max_depth': 4}\n",
      "-38.126 (+/-31.772) for {'min_samples_split': 1, 'n_estimators': 1000, 'learning_rate': 0.001, 'max_depth': 4}\n",
      "-21.410 (+/-20.525) for {'min_samples_split': 1, 'n_estimators': 10000, 'learning_rate': 0.001, 'max_depth': 4}\n",
      "-53.845 (+/-42.896) for {'min_samples_split': 2, 'n_estimators': 500, 'learning_rate': 0.001, 'max_depth': 4}\n",
      "-38.126 (+/-31.772) for {'min_samples_split': 2, 'n_estimators': 1000, 'learning_rate': 0.001, 'max_depth': 4}\n",
      "-21.410 (+/-20.525) for {'min_samples_split': 2, 'n_estimators': 10000, 'learning_rate': 0.001, 'max_depth': 4}\n",
      "-53.910 (+/-42.933) for {'min_samples_split': 4, 'n_estimators': 500, 'learning_rate': 0.001, 'max_depth': 4}\n",
      "-37.759 (+/-32.024) for {'min_samples_split': 4, 'n_estimators': 1000, 'learning_rate': 0.001, 'max_depth': 4}\n",
      "-21.224 (+/-20.414) for {'min_samples_split': 4, 'n_estimators': 10000, 'learning_rate': 0.001, 'max_depth': 4}\n",
      "-52.514 (+/-36.711) for {'min_samples_split': 1, 'n_estimators': 500, 'learning_rate': 0.001, 'max_depth': 8}\n",
      "-37.161 (+/-28.747) for {'min_samples_split': 1, 'n_estimators': 1000, 'learning_rate': 0.001, 'max_depth': 8}\n",
      "-29.040 (+/-30.215) for {'min_samples_split': 1, 'n_estimators': 10000, 'learning_rate': 0.001, 'max_depth': 8}\n",
      "-52.514 (+/-36.711) for {'min_samples_split': 2, 'n_estimators': 500, 'learning_rate': 0.001, 'max_depth': 8}\n",
      "-37.161 (+/-28.747) for {'min_samples_split': 2, 'n_estimators': 1000, 'learning_rate': 0.001, 'max_depth': 8}\n",
      "-29.040 (+/-30.215) for {'min_samples_split': 2, 'n_estimators': 10000, 'learning_rate': 0.001, 'max_depth': 8}\n",
      "-51.178 (+/-36.634) for {'min_samples_split': 4, 'n_estimators': 500, 'learning_rate': 0.001, 'max_depth': 8}\n",
      "-35.353 (+/-28.416) for {'min_samples_split': 4, 'n_estimators': 1000, 'learning_rate': 0.001, 'max_depth': 8}\n",
      "-27.474 (+/-30.702) for {'min_samples_split': 4, 'n_estimators': 10000, 'learning_rate': 0.001, 'max_depth': 8}\n",
      "-20.181 (+/-27.408) for {'min_samples_split': 1, 'n_estimators': 500, 'learning_rate': 0.01, 'max_depth': 2}\n",
      "-18.655 (+/-24.999) for {'min_samples_split': 1, 'n_estimators': 1000, 'learning_rate': 0.01, 'max_depth': 2}\n",
      "-18.857 (+/-23.010) for {'min_samples_split': 1, 'n_estimators': 10000, 'learning_rate': 0.01, 'max_depth': 2}\n",
      "-20.181 (+/-27.408) for {'min_samples_split': 2, 'n_estimators': 500, 'learning_rate': 0.01, 'max_depth': 2}\n",
      "-18.655 (+/-24.999) for {'min_samples_split': 2, 'n_estimators': 1000, 'learning_rate': 0.01, 'max_depth': 2}\n",
      "-18.857 (+/-23.010) for {'min_samples_split': 2, 'n_estimators': 10000, 'learning_rate': 0.01, 'max_depth': 2}\n",
      "-20.181 (+/-27.408) for {'min_samples_split': 4, 'n_estimators': 500, 'learning_rate': 0.01, 'max_depth': 2}\n",
      "-18.619 (+/-25.211) for {'min_samples_split': 4, 'n_estimators': 1000, 'learning_rate': 0.01, 'max_depth': 2}\n",
      "-18.613 (+/-22.535) for {'min_samples_split': 4, 'n_estimators': 10000, 'learning_rate': 0.01, 'max_depth': 2}\n",
      "-22.122 (+/-20.959) for {'min_samples_split': 1, 'n_estimators': 500, 'learning_rate': 0.01, 'max_depth': 4}\n",
      "-21.494 (+/-20.573) for {'min_samples_split': 1, 'n_estimators': 1000, 'learning_rate': 0.01, 'max_depth': 4}\n",
      "-22.283 (+/-22.320) for {'min_samples_split': 1, 'n_estimators': 10000, 'learning_rate': 0.01, 'max_depth': 4}\n",
      "-22.122 (+/-20.959) for {'min_samples_split': 2, 'n_estimators': 500, 'learning_rate': 0.01, 'max_depth': 4}\n",
      "-21.494 (+/-20.573) for {'min_samples_split': 2, 'n_estimators': 1000, 'learning_rate': 0.01, 'max_depth': 4}\n",
      "-22.283 (+/-22.320) for {'min_samples_split': 2, 'n_estimators': 10000, 'learning_rate': 0.01, 'max_depth': 4}\n",
      "-21.559 (+/-20.461) for {'min_samples_split': 4, 'n_estimators': 500, 'learning_rate': 0.01, 'max_depth': 4}\n",
      "-20.998 (+/-20.496) for {'min_samples_split': 4, 'n_estimators': 1000, 'learning_rate': 0.01, 'max_depth': 4}\n",
      "-21.632 (+/-20.797) for {'min_samples_split': 4, 'n_estimators': 10000, 'learning_rate': 0.01, 'max_depth': 4}\n",
      "-29.367 (+/-30.096) for {'min_samples_split': 1, 'n_estimators': 500, 'learning_rate': 0.01, 'max_depth': 8}\n",
      "-29.215 (+/-30.054) for {'min_samples_split': 1, 'n_estimators': 1000, 'learning_rate': 0.01, 'max_depth': 8}\n",
      "-29.207 (+/-30.058) for {'min_samples_split': 1, 'n_estimators': 10000, 'learning_rate': 0.01, 'max_depth': 8}\n",
      "-29.367 (+/-30.096) for {'min_samples_split': 2, 'n_estimators': 500, 'learning_rate': 0.01, 'max_depth': 8}\n",
      "-29.215 (+/-30.054) for {'min_samples_split': 2, 'n_estimators': 1000, 'learning_rate': 0.01, 'max_depth': 8}\n",
      "-29.207 (+/-30.058) for {'min_samples_split': 2, 'n_estimators': 10000, 'learning_rate': 0.01, 'max_depth': 8}\n",
      "-27.097 (+/-30.452) for {'min_samples_split': 4, 'n_estimators': 500, 'learning_rate': 0.01, 'max_depth': 8}\n",
      "-26.983 (+/-30.476) for {'min_samples_split': 4, 'n_estimators': 1000, 'learning_rate': 0.01, 'max_depth': 8}\n",
      "-26.980 (+/-30.467) for {'min_samples_split': 4, 'n_estimators': 10000, 'learning_rate': 0.01, 'max_depth': 8}\n",
      "-18.197 (+/-23.375) for {'min_samples_split': 1, 'n_estimators': 500, 'learning_rate': 0.1, 'max_depth': 2}\n",
      "-18.811 (+/-24.261) for {'min_samples_split': 1, 'n_estimators': 1000, 'learning_rate': 0.1, 'max_depth': 2}\n",
      "-19.255 (+/-25.165) for {'min_samples_split': 1, 'n_estimators': 10000, 'learning_rate': 0.1, 'max_depth': 2}\n",
      "-18.197 (+/-23.375) for {'min_samples_split': 2, 'n_estimators': 500, 'learning_rate': 0.1, 'max_depth': 2}\n",
      "-18.811 (+/-24.261) for {'min_samples_split': 2, 'n_estimators': 1000, 'learning_rate': 0.1, 'max_depth': 2}\n",
      "-19.255 (+/-25.165) for {'min_samples_split': 2, 'n_estimators': 10000, 'learning_rate': 0.1, 'max_depth': 2}\n",
      "-18.177 (+/-24.002) for {'min_samples_split': 4, 'n_estimators': 500, 'learning_rate': 0.1, 'max_depth': 2}\n",
      "-18.581 (+/-24.695) for {'min_samples_split': 4, 'n_estimators': 1000, 'learning_rate': 0.1, 'max_depth': 2}\n",
      "-19.166 (+/-25.754) for {'min_samples_split': 4, 'n_estimators': 10000, 'learning_rate': 0.1, 'max_depth': 2}\n",
      "-21.753 (+/-21.421) for {'min_samples_split': 1, 'n_estimators': 500, 'learning_rate': 0.1, 'max_depth': 4}\n",
      "-21.760 (+/-21.475) for {'min_samples_split': 1, 'n_estimators': 1000, 'learning_rate': 0.1, 'max_depth': 4}\n",
      "-21.761 (+/-21.476) for {'min_samples_split': 1, 'n_estimators': 10000, 'learning_rate': 0.1, 'max_depth': 4}\n",
      "-21.753 (+/-21.421) for {'min_samples_split': 2, 'n_estimators': 500, 'learning_rate': 0.1, 'max_depth': 4}\n",
      "-21.760 (+/-21.475) for {'min_samples_split': 2, 'n_estimators': 1000, 'learning_rate': 0.1, 'max_depth': 4}\n",
      "-21.761 (+/-21.476) for {'min_samples_split': 2, 'n_estimators': 10000, 'learning_rate': 0.1, 'max_depth': 4}\n",
      "-21.553 (+/-19.929) for {'min_samples_split': 4, 'n_estimators': 500, 'learning_rate': 0.1, 'max_depth': 4}\n",
      "-21.567 (+/-19.970) for {'min_samples_split': 4, 'n_estimators': 1000, 'learning_rate': 0.1, 'max_depth': 4}\n",
      "-21.567 (+/-19.972) for {'min_samples_split': 4, 'n_estimators': 10000, 'learning_rate': 0.1, 'max_depth': 4}\n",
      "-29.011 (+/-29.515) for {'min_samples_split': 1, 'n_estimators': 500, 'learning_rate': 0.1, 'max_depth': 8}\n",
      "-29.011 (+/-29.515) for {'min_samples_split': 1, 'n_estimators': 1000, 'learning_rate': 0.1, 'max_depth': 8}\n",
      "-29.011 (+/-29.515) for {'min_samples_split': 1, 'n_estimators': 10000, 'learning_rate': 0.1, 'max_depth': 8}\n",
      "-29.011 (+/-29.515) for {'min_samples_split': 2, 'n_estimators': 500, 'learning_rate': 0.1, 'max_depth': 8}\n",
      "-29.011 (+/-29.515) for {'min_samples_split': 2, 'n_estimators': 1000, 'learning_rate': 0.1, 'max_depth': 8}\n",
      "-29.011 (+/-29.515) for {'min_samples_split': 2, 'n_estimators': 10000, 'learning_rate': 0.1, 'max_depth': 8}\n",
      "-26.989 (+/-28.936) for {'min_samples_split': 4, 'n_estimators': 500, 'learning_rate': 0.1, 'max_depth': 8}\n",
      "-26.989 (+/-28.936) for {'min_samples_split': 4, 'n_estimators': 1000, 'learning_rate': 0.1, 'max_depth': 8}\n",
      "-26.989 (+/-28.936) for {'min_samples_split': 4, 'n_estimators': 10000, 'learning_rate': 0.1, 'max_depth': 8}\n"
     ]
    }
   ],
   "source": [
    "# create X and y\n",
    "feature_cols = ['crim', 'zn', 'indus', 'chas', 'nox', 'rm', 'age', \n",
    "                'dis', 'rad', 'tax', 'ptratio', 'black', 'lstat']\n",
    "X = mydata[feature_cols]\n",
    "y = mydata.medv\n",
    "\n",
    "#%% use cross validation to estimate hyperparameters on a grid\n",
    "from sklearn.grid_search import GridSearchCV\n",
    "from sklearn.ensemble import GradientBoostingRegressor\n",
    "from sklearn.metrics import mean_squared_error\n",
    "from time import time\n",
    "\n",
    "tuned_params = {'n_estimators': [500, 1000, 10000], \n",
    "                'max_depth': [2, 4, 8], \n",
    "                'min_samples_split': [1, 2, 4],\n",
    "                'learning_rate': [0.001, 0.01, 0.1]}\n",
    "          \n",
    "print(\"# Tuning hyper-parameters for mean_squared_error\")\n",
    "\n",
    "gscv = GridSearchCV(GradientBoostingRegressor(loss = 'ls', random_state=0), \n",
    "                    tuned_params, cv=5, scoring='mean_squared_error')\n",
    "\n",
    "start = time()\n",
    "gscv.fit(X, y)\n",
    "print(\"The grid cross validation lasted {0:0.2f} seconds\"\n",
    "      .format(time() - start))\n",
    "print(\"Best parameters set found on development set:\")\n",
    "print(gscv.best_params_)\n",
    "print(\"Grid scores on development set:\")\n",
    "for params, mean_score, scores in gscv.grid_scores_:\n",
    "    print(\"{0:0.3f} (+/-{1:0.3f}) for {2:s}\"\n",
    "          .format(mean_score, scores.std() * 2, params))"
   ]
  },
  {
   "cell_type": "markdown",
   "metadata": {},
   "source": [
    "## 4 Fit Model with Estimated Parameters\n",
    "With the selected parameter values from above, we can fit a GBM model and check model performance. A plot comparing the importance of variables is also generated. "
   ]
  },
  {
   "cell_type": "code",
   "execution_count": 9,
   "metadata": {
    "collapsed": false,
    "scrolled": false
   },
   "outputs": [
    {
     "name": "stdout",
     "output_type": "stream",
     "text": [
      "Mean Absolute Error: 0.844351\n",
      "Root Mean Squared Error: 1.071576\n",
      "Relative Absolute Error: 0.127023\n",
      "Relative Squared Error: 0.013602\n"
     ]
    },
    {
     "data": {
      "image/png": "[encoded data removed]",
      "text/plain": [
       "<matplotlib.figure.Figure at 0x18ab1390>"
      ]
     },
     "metadata": {},
     "output_type": "display_data"
    }
   ],
   "source": [
    "%matplotlib inline\n",
    "\n",
    "# fit model with the best set of parameter values\n",
    "params = {'n_estimators': 500, 'max_depth': 2, 'min_samples_split': 4,\n",
    "          'learning_rate': 0.1, 'loss': 'ls', 'random_state': 0}\n",
    "          \n",
    "gbm = GradientBoostingRegressor(**params)\n",
    "\n",
    "gbm.fit(X, y)\n",
    "\n",
    "# check additional performance metrics\n",
    "# assign test data\n",
    "import pandas as pd\n",
    "newX = X\n",
    "newY = y\n",
    "\n",
    "# join predictions with original data\n",
    "predicted = gbm.predict(newX)\n",
    "predicted_df = pd.DataFrame({\"predicted\": predicted})\n",
    "mydata_with_pd = newX.join(newY).join(predicted_df)\n",
    "mydata_with_pd.head()\n",
    "\n",
    "# check performance metrics\n",
    "import numpy as np\n",
    "obs = mydata_with_pd.medv\n",
    "pred = mydata_with_pd.predicted\n",
    "\n",
    "mae = np.mean(abs(pred-obs))\n",
    "rmse = np.sqrt(np.mean((pred-obs)**2))\n",
    "rae = np.mean(abs(pred-obs))/np.mean(abs(obs-np.mean(obs)))\n",
    "rse = np.mean((pred-obs)**2)/np.mean((obs-np.mean(obs))**2)\n",
    "\n",
    "# print additional performance metrics\n",
    "print(\"Mean Absolute Error: {0:0.6f}\".format(mae))\n",
    "print(\"Root Mean Squared Error: {0:0.6f}\".format(rmse))\n",
    "print(\"Relative Absolute Error: {0:0.6f}\".format(rae))\n",
    "print(\"Relative Squared Error: {0:0.6f}\".format(rse))\n",
    "\n",
    "# plot variable importance\n",
    "import numpy as np\n",
    "import matplotlib.pyplot as plt\n",
    "\n",
    "feature_importance = gbm.feature_importances_\n",
    "feature_importance = 100.0 * (feature_importance / feature_importance.max())\n",
    "sorted_idx = np.argsort(feature_importance)[::-1]\n",
    "\n",
    "plt.figure(figsize=(6 * 1.618, 6))\n",
    "index = np.arange(len(feature_cols))\n",
    "bar_width = 0.5\n",
    "plt.bar(index, feature_importance[sorted_idx], color='black', alpha=0.5)\n",
    "plt.xlabel('features')\n",
    "plt.ylabel('importance')\n",
    "plt.title('Feature importance')\n",
    "plt.xticks(index + bar_width, np.array(feature_cols)[sorted_idx])\n",
    "plt.tight_layout()\n",
    "plt.show()\n"
   ]
  },
  {
   "cell_type": "markdown",
   "metadata": {},
   "source": [
    "## 5 Conclusion\n",
    "Using the Boston housing dataset, we started the analysis by estimating the parameters in the GBM model. Then we fitted the model and examined variable importance. \n",
    "\n",
    "In addition to the least squares (ls) loss function, [GradientBoostingRegressor][boostingreg link] from [sklearn][sklearn link] allows for several other loss functions: least absolute deviation (lad), huber loss function which is a combination of ls and lad, and quantile loss function. For example, the least squares loss function is commonly used when the response variable follows a Gaussian distribution and the least absolute deviation loss function is appropriate when the response variable follows a Laplace distribution. \n",
    "\n",
    "\n",
    "[boostingreg link]: http://scikit-learn.org/stable/modules/generated/sklearn.ensemble.GradientBoostingRegressor.html\n",
    "[sklearn link]: http://scikit-learn.org/stable/index.html"
   ]
  }
 ],
 "metadata": {
  "anaconda-cloud": {},
  "kernelspec": {
   "display_name": "Python [Anaconda2]",
   "language": "python",
   "name": "Python [Anaconda2]"
  },
  "language_info": {
   "codemirror_mode": {
    "name": "ipython",
    "version": 2
   },
   "file_extension": ".py",
   "mimetype": "text/x-python",
   "name": "python",
   "nbconvert_exporter": "python",
   "pygments_lexer": "ipython2",
   "version": "2.7.12"
  }
 },
 "nbformat": 4,
 "nbformat_minor": 0
}
